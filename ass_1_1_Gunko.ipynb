{
 "cells": [
  {
   "cell_type": "code",
   "execution_count": 68,
   "metadata": {},
   "outputs": [],
   "source": [
    "import rasterio\n",
    "import bokeh\n",
    "import os\n",
    "import numpy as np\n",
    "#importing needed libraries"
   ]
  },
  {
   "cell_type": "code",
   "execution_count": 69,
   "metadata": {},
   "outputs": [
    {
     "name": "stdout",
     "output_type": "stream",
     "text": [
      "/Users/shym/Downloads/assignment_Gunko/SSP4/Total/GeoTIFF\n"
     ]
    }
   ],
   "source": [
    "cwd = os.getcwd()\n",
    "print(cwd)\n",
    "#check our working directory"
   ]
  },
  {
   "cell_type": "code",
   "execution_count": 70,
   "metadata": {},
   "outputs": [],
   "source": [
    "path=\"/Users/shym/Downloads/assignment_Gunko/\"\n",
    "os.chdir(path)\n",
    "#change our working directory. I tried to open it directly but for some reason it was not working on my laptop\n",
    "#with rasters. Thus, I did it like this. "
   ]
  },
  {
   "cell_type": "code",
   "execution_count": 71,
   "metadata": {},
   "outputs": [
    {
     "data": {
      "text/plain": [
       "'/Users/shym/Downloads/assignment_Gunko'"
      ]
     },
     "execution_count": 71,
     "metadata": {},
     "output_type": "execute_result"
    }
   ],
   "source": [
    "os.getcwd()\n",
    "#check our working directory"
   ]
  },
  {
   "cell_type": "code",
   "execution_count": 72,
   "metadata": {},
   "outputs": [],
   "source": [
    "countries = rasterio.open('countries.tif')\n",
    "#open raster with countries data"
   ]
  },
  {
   "cell_type": "code",
   "execution_count": 73,
   "metadata": {},
   "outputs": [
    {
     "name": "stdout",
     "output_type": "stream",
     "text": [
      "The file is called countries.tif\n",
      "\n",
      "It is 2880 x 1117 pixels big\n",
      "\n",
      "It covers the following extent: BoundingBox(left=-180.0, bottom=-55.875, right=180.0, top=83.75)\n",
      "\n",
      "It is in the following CRS: EPSG:4326\n"
     ]
    }
   ],
   "source": [
    "print(\"The file is called\", countries.name)\n",
    "print()\n",
    "print(\"It is\", countries.width, \"x\",countries.height,\"pixels big\")\n",
    "print()\n",
    "print(\"It covers the following extent:\",countries.bounds)\n",
    "print()\n",
    "print(\"It is in the following CRS:\",countries.crs)\n",
    "# getting information about countries raster"
   ]
  },
  {
   "cell_type": "code",
   "execution_count": 74,
   "metadata": {},
   "outputs": [
    {
     "data": {
      "text/plain": [
       "array([[-99., -99., -99., ..., -99., -99., -99.],\n",
       "       [-99., -99., -99., ..., -99., -99., -99.],\n",
       "       [-99., -99., -99., ..., -99., -99., -99.],\n",
       "       ...,\n",
       "       [-99., -99., -99., ..., -99., -99., -99.],\n",
       "       [-99., -99., -99., ..., -99., -99., -99.],\n",
       "       [-99., -99., -99., ..., -99., -99., -99.]])"
      ]
     },
     "execution_count": 74,
     "metadata": {},
     "output_type": "execute_result"
    }
   ],
   "source": [
    "country = countries.read(1)\n",
    "country\n",
    "#reading raster data"
   ]
  },
  {
   "cell_type": "code",
   "execution_count": 75,
   "metadata": {},
   "outputs": [
    {
     "data": {
      "text/plain": [
       "array([[False, False, False, ..., False, False, False],\n",
       "       [False, False, False, ..., False, False, False],\n",
       "       [False, False, False, ..., False, False, False],\n",
       "       ...,\n",
       "       [False, False, False, ..., False, False, False],\n",
       "       [False, False, False, ..., False, False, False],\n",
       "       [False, False, False, ..., False, False, False]])"
      ]
     },
     "execution_count": 75,
     "metadata": {},
     "output_type": "execute_result"
    }
   ],
   "source": [
    "ukraine = country == 804 \n",
    "ukraine\n",
    "#finding Ukraine and getting variable with Ukraine's raster data"
   ]
  },
  {
   "cell_type": "code",
   "execution_count": 76,
   "metadata": {},
   "outputs": [],
   "source": [
    "path=\"/Users/shym/Downloads/assignment_Gunko/SSP4/Urban/GeoTIFF/\"\n",
    "os.chdir(path)\n",
    "# changeing working directory for openning population rasters"
   ]
  },
  {
   "cell_type": "code",
   "execution_count": 77,
   "metadata": {},
   "outputs": [],
   "source": [
    "import numpy as np\n",
    "import bokeh.plotting as bkplt\n",
    "# adding additional libs"
   ]
  },
  {
   "cell_type": "code",
   "execution_count": 78,
   "metadata": {},
   "outputs": [],
   "source": [
    "urban2010=rasterio.open('ssp4urb2010.tif')\n",
    "urban2020=rasterio.open('ssp4urb2020.tif')\n",
    "urban2030=rasterio.open('ssp4urb2030.tif')\n",
    "urban2040=rasterio.open('ssp4urb2040.tif')\n",
    "urban2050=rasterio.open('ssp4urb2050.tif')\n",
    "urban2060=rasterio.open('ssp4urb2060.tif')\n",
    "urban2070=rasterio.open('ssp4urb2070.tif')\n",
    "urban2080=rasterio.open('ssp4urb2080.tif')\n",
    "urban2090=rasterio.open('ssp4urb2090.tif')\n",
    "urban2100=rasterio.open('ssp4urb2100.tif')\n",
    "#open rasters. I'm sure that exist a way to do in loop but I son't have enough expirience to manage it yet..."
   ]
  },
  {
   "cell_type": "code",
   "execution_count": 79,
   "metadata": {},
   "outputs": [
    {
     "data": {
      "text/plain": [
       "array([[2147483647, 2147483647, 2147483647, ..., 2147483647, 2147483647,\n",
       "        2147483647],\n",
       "       [2147483647, 2147483647, 2147483647, ..., 2147483647, 2147483647,\n",
       "        2147483647],\n",
       "       [2147483647, 2147483647, 2147483647, ..., 2147483647, 2147483647,\n",
       "        2147483647],\n",
       "       ...,\n",
       "       [2147483647, 2147483647, 2147483647, ..., 2147483647, 2147483647,\n",
       "        2147483647],\n",
       "       [2147483647, 2147483647, 2147483647, ..., 2147483647, 2147483647,\n",
       "        2147483647],\n",
       "       [2147483647, 2147483647, 2147483647, ..., 2147483647, 2147483647,\n",
       "        2147483647]], dtype=int32)"
      ]
     },
     "execution_count": 79,
     "metadata": {},
     "output_type": "execute_result"
    }
   ],
   "source": [
    "urban2010_1= urban2010.read(1)\n",
    "urban2010_1\n",
    "#reading urban data as arrays. Once more: I'm sure here must be a loop, but I hope I'll manage it later..."
   ]
  },
  {
   "cell_type": "code",
   "execution_count": 80,
   "metadata": {},
   "outputs": [
    {
     "data": {
      "text/plain": [
       "array([[2147483647, 2147483647, 2147483647, ..., 2147483647, 2147483647,\n",
       "        2147483647],\n",
       "       [2147483647, 2147483647, 2147483647, ..., 2147483647, 2147483647,\n",
       "        2147483647],\n",
       "       [2147483647, 2147483647, 2147483647, ..., 2147483647, 2147483647,\n",
       "        2147483647],\n",
       "       ...,\n",
       "       [2147483647, 2147483647, 2147483647, ..., 2147483647, 2147483647,\n",
       "        2147483647],\n",
       "       [2147483647, 2147483647, 2147483647, ..., 2147483647, 2147483647,\n",
       "        2147483647],\n",
       "       [2147483647, 2147483647, 2147483647, ..., 2147483647, 2147483647,\n",
       "        2147483647]], dtype=int32)"
      ]
     },
     "execution_count": 80,
     "metadata": {},
     "output_type": "execute_result"
    }
   ],
   "source": [
    "urban2020_1= urban2020.read(1)\n",
    "urban2020_1"
   ]
  },
  {
   "cell_type": "code",
   "execution_count": 81,
   "metadata": {},
   "outputs": [
    {
     "data": {
      "text/plain": [
       "array([[2147483647, 2147483647, 2147483647, ..., 2147483647, 2147483647,\n",
       "        2147483647],\n",
       "       [2147483647, 2147483647, 2147483647, ..., 2147483647, 2147483647,\n",
       "        2147483647],\n",
       "       [2147483647, 2147483647, 2147483647, ..., 2147483647, 2147483647,\n",
       "        2147483647],\n",
       "       ...,\n",
       "       [2147483647, 2147483647, 2147483647, ..., 2147483647, 2147483647,\n",
       "        2147483647],\n",
       "       [2147483647, 2147483647, 2147483647, ..., 2147483647, 2147483647,\n",
       "        2147483647],\n",
       "       [2147483647, 2147483647, 2147483647, ..., 2147483647, 2147483647,\n",
       "        2147483647]], dtype=int32)"
      ]
     },
     "execution_count": 81,
     "metadata": {},
     "output_type": "execute_result"
    }
   ],
   "source": [
    "urban2030_1= urban2030.read(1)\n",
    "urban2030_1"
   ]
  },
  {
   "cell_type": "code",
   "execution_count": 82,
   "metadata": {},
   "outputs": [
    {
     "data": {
      "text/plain": [
       "array([[2147483647, 2147483647, 2147483647, ..., 2147483647, 2147483647,\n",
       "        2147483647],\n",
       "       [2147483647, 2147483647, 2147483647, ..., 2147483647, 2147483647,\n",
       "        2147483647],\n",
       "       [2147483647, 2147483647, 2147483647, ..., 2147483647, 2147483647,\n",
       "        2147483647],\n",
       "       ...,\n",
       "       [2147483647, 2147483647, 2147483647, ..., 2147483647, 2147483647,\n",
       "        2147483647],\n",
       "       [2147483647, 2147483647, 2147483647, ..., 2147483647, 2147483647,\n",
       "        2147483647],\n",
       "       [2147483647, 2147483647, 2147483647, ..., 2147483647, 2147483647,\n",
       "        2147483647]], dtype=int32)"
      ]
     },
     "execution_count": 82,
     "metadata": {},
     "output_type": "execute_result"
    }
   ],
   "source": [
    "urban2040_1= urban2040.read(1)\n",
    "urban2040_1"
   ]
  },
  {
   "cell_type": "code",
   "execution_count": 83,
   "metadata": {},
   "outputs": [
    {
     "data": {
      "text/plain": [
       "array([[2147483647, 2147483647, 2147483647, ..., 2147483647, 2147483647,\n",
       "        2147483647],\n",
       "       [2147483647, 2147483647, 2147483647, ..., 2147483647, 2147483647,\n",
       "        2147483647],\n",
       "       [2147483647, 2147483647, 2147483647, ..., 2147483647, 2147483647,\n",
       "        2147483647],\n",
       "       ...,\n",
       "       [2147483647, 2147483647, 2147483647, ..., 2147483647, 2147483647,\n",
       "        2147483647],\n",
       "       [2147483647, 2147483647, 2147483647, ..., 2147483647, 2147483647,\n",
       "        2147483647],\n",
       "       [2147483647, 2147483647, 2147483647, ..., 2147483647, 2147483647,\n",
       "        2147483647]], dtype=int32)"
      ]
     },
     "execution_count": 83,
     "metadata": {},
     "output_type": "execute_result"
    }
   ],
   "source": [
    "urban2050_1= urban2050.read(1)\n",
    "urban2050_1"
   ]
  },
  {
   "cell_type": "code",
   "execution_count": 84,
   "metadata": {},
   "outputs": [
    {
     "data": {
      "text/plain": [
       "array([[2147483647, 2147483647, 2147483647, ..., 2147483647, 2147483647,\n",
       "        2147483647],\n",
       "       [2147483647, 2147483647, 2147483647, ..., 2147483647, 2147483647,\n",
       "        2147483647],\n",
       "       [2147483647, 2147483647, 2147483647, ..., 2147483647, 2147483647,\n",
       "        2147483647],\n",
       "       ...,\n",
       "       [2147483647, 2147483647, 2147483647, ..., 2147483647, 2147483647,\n",
       "        2147483647],\n",
       "       [2147483647, 2147483647, 2147483647, ..., 2147483647, 2147483647,\n",
       "        2147483647],\n",
       "       [2147483647, 2147483647, 2147483647, ..., 2147483647, 2147483647,\n",
       "        2147483647]], dtype=int32)"
      ]
     },
     "execution_count": 84,
     "metadata": {},
     "output_type": "execute_result"
    }
   ],
   "source": [
    "urban2060_1= urban2060.read(1)\n",
    "urban2060_1"
   ]
  },
  {
   "cell_type": "code",
   "execution_count": 85,
   "metadata": {},
   "outputs": [
    {
     "data": {
      "text/plain": [
       "array([[2147483647, 2147483647, 2147483647, ..., 2147483647, 2147483647,\n",
       "        2147483647],\n",
       "       [2147483647, 2147483647, 2147483647, ..., 2147483647, 2147483647,\n",
       "        2147483647],\n",
       "       [2147483647, 2147483647, 2147483647, ..., 2147483647, 2147483647,\n",
       "        2147483647],\n",
       "       ...,\n",
       "       [2147483647, 2147483647, 2147483647, ..., 2147483647, 2147483647,\n",
       "        2147483647],\n",
       "       [2147483647, 2147483647, 2147483647, ..., 2147483647, 2147483647,\n",
       "        2147483647],\n",
       "       [2147483647, 2147483647, 2147483647, ..., 2147483647, 2147483647,\n",
       "        2147483647]], dtype=int32)"
      ]
     },
     "execution_count": 85,
     "metadata": {},
     "output_type": "execute_result"
    }
   ],
   "source": [
    "urban2070_1= urban2070.read(1)\n",
    "urban2070_1"
   ]
  },
  {
   "cell_type": "code",
   "execution_count": 86,
   "metadata": {},
   "outputs": [
    {
     "data": {
      "text/plain": [
       "array([[2147483647, 2147483647, 2147483647, ..., 2147483647, 2147483647,\n",
       "        2147483647],\n",
       "       [2147483647, 2147483647, 2147483647, ..., 2147483647, 2147483647,\n",
       "        2147483647],\n",
       "       [2147483647, 2147483647, 2147483647, ..., 2147483647, 2147483647,\n",
       "        2147483647],\n",
       "       ...,\n",
       "       [2147483647, 2147483647, 2147483647, ..., 2147483647, 2147483647,\n",
       "        2147483647],\n",
       "       [2147483647, 2147483647, 2147483647, ..., 2147483647, 2147483647,\n",
       "        2147483647],\n",
       "       [2147483647, 2147483647, 2147483647, ..., 2147483647, 2147483647,\n",
       "        2147483647]], dtype=int32)"
      ]
     },
     "execution_count": 86,
     "metadata": {},
     "output_type": "execute_result"
    }
   ],
   "source": [
    "urban2080_1= urban2080.read(1)\n",
    "urban2080_1"
   ]
  },
  {
   "cell_type": "code",
   "execution_count": 87,
   "metadata": {},
   "outputs": [
    {
     "data": {
      "text/plain": [
       "array([[2147483647, 2147483647, 2147483647, ..., 2147483647, 2147483647,\n",
       "        2147483647],\n",
       "       [2147483647, 2147483647, 2147483647, ..., 2147483647, 2147483647,\n",
       "        2147483647],\n",
       "       [2147483647, 2147483647, 2147483647, ..., 2147483647, 2147483647,\n",
       "        2147483647],\n",
       "       ...,\n",
       "       [2147483647, 2147483647, 2147483647, ..., 2147483647, 2147483647,\n",
       "        2147483647],\n",
       "       [2147483647, 2147483647, 2147483647, ..., 2147483647, 2147483647,\n",
       "        2147483647],\n",
       "       [2147483647, 2147483647, 2147483647, ..., 2147483647, 2147483647,\n",
       "        2147483647]], dtype=int32)"
      ]
     },
     "execution_count": 87,
     "metadata": {},
     "output_type": "execute_result"
    }
   ],
   "source": [
    "urban2090_1= urban2090.read(1)\n",
    "urban2090_1"
   ]
  },
  {
   "cell_type": "code",
   "execution_count": 88,
   "metadata": {},
   "outputs": [
    {
     "data": {
      "text/plain": [
       "array([[2147483647, 2147483647, 2147483647, ..., 2147483647, 2147483647,\n",
       "        2147483647],\n",
       "       [2147483647, 2147483647, 2147483647, ..., 2147483647, 2147483647,\n",
       "        2147483647],\n",
       "       [2147483647, 2147483647, 2147483647, ..., 2147483647, 2147483647,\n",
       "        2147483647],\n",
       "       ...,\n",
       "       [2147483647, 2147483647, 2147483647, ..., 2147483647, 2147483647,\n",
       "        2147483647],\n",
       "       [2147483647, 2147483647, 2147483647, ..., 2147483647, 2147483647,\n",
       "        2147483647],\n",
       "       [2147483647, 2147483647, 2147483647, ..., 2147483647, 2147483647,\n",
       "        2147483647]], dtype=int32)"
      ]
     },
     "execution_count": 88,
     "metadata": {},
     "output_type": "execute_result"
    }
   ],
   "source": [
    "urban2100_1= urban2100.read(1)\n",
    "urban2100_1"
   ]
  },
  {
   "cell_type": "code",
   "execution_count": 89,
   "metadata": {},
   "outputs": [
    {
     "data": {
      "text/plain": [
       "31867738"
      ]
     },
     "execution_count": 89,
     "metadata": {},
     "output_type": "execute_result"
    }
   ],
   "source": [
    "urban2010data=np.sum(urban2010_1[ukraine])\n",
    "urban2010data\n",
    "#combaning urban layers with Ukrainian data. Basically, calculation sum of urban population according to the year"
   ]
  },
  {
   "cell_type": "code",
   "execution_count": 90,
   "metadata": {},
   "outputs": [
    {
     "data": {
      "text/plain": [
       "32520910"
      ]
     },
     "execution_count": 90,
     "metadata": {},
     "output_type": "execute_result"
    }
   ],
   "source": [
    "urban2020data= np.sum(urban2020_1[ukraine])\n",
    "urban2020data"
   ]
  },
  {
   "cell_type": "code",
   "execution_count": 91,
   "metadata": {},
   "outputs": [
    {
     "data": {
      "text/plain": [
       "32618364"
      ]
     },
     "execution_count": 91,
     "metadata": {},
     "output_type": "execute_result"
    }
   ],
   "source": [
    "urban2030data=np.sum(urban2030_1[ukraine])\n",
    "urban2030data"
   ]
  },
  {
   "cell_type": "code",
   "execution_count": 92,
   "metadata": {},
   "outputs": [
    {
     "data": {
      "text/plain": [
       "32370449"
      ]
     },
     "execution_count": 92,
     "metadata": {},
     "output_type": "execute_result"
    }
   ],
   "source": [
    "urban2040data=np.sum(urban2040_1[ukraine])\n",
    "urban2040data"
   ]
  },
  {
   "cell_type": "code",
   "execution_count": 93,
   "metadata": {},
   "outputs": [
    {
     "data": {
      "text/plain": [
       "31753228"
      ]
     },
     "execution_count": 93,
     "metadata": {},
     "output_type": "execute_result"
    }
   ],
   "source": [
    "urban2050data=np.sum(urban2050_1[ukraine])\n",
    "urban2050data"
   ]
  },
  {
   "cell_type": "code",
   "execution_count": 94,
   "metadata": {},
   "outputs": [
    {
     "data": {
      "text/plain": [
       "30794046"
      ]
     },
     "execution_count": 94,
     "metadata": {},
     "output_type": "execute_result"
    }
   ],
   "source": [
    "urban2060data=np.sum(urban2060_1[ukraine])\n",
    "urban2060data"
   ]
  },
  {
   "cell_type": "code",
   "execution_count": 95,
   "metadata": {},
   "outputs": [
    {
     "data": {
      "text/plain": [
       "29325149"
      ]
     },
     "execution_count": 95,
     "metadata": {},
     "output_type": "execute_result"
    }
   ],
   "source": [
    "urban2070data=np.sum(urban2070_1[ukraine])\n",
    "urban2070data"
   ]
  },
  {
   "cell_type": "code",
   "execution_count": 96,
   "metadata": {},
   "outputs": [
    {
     "data": {
      "text/plain": [
       "27374814"
      ]
     },
     "execution_count": 96,
     "metadata": {},
     "output_type": "execute_result"
    }
   ],
   "source": [
    "urban2080data=np.sum(urban2080_1[ukraine])\n",
    "urban2080data"
   ]
  },
  {
   "cell_type": "code",
   "execution_count": 97,
   "metadata": {},
   "outputs": [
    {
     "data": {
      "text/plain": [
       "25147923"
      ]
     },
     "execution_count": 97,
     "metadata": {},
     "output_type": "execute_result"
    }
   ],
   "source": [
    "urban2090data=np.sum(urban2090_1[ukraine])\n",
    "urban2090data"
   ]
  },
  {
   "cell_type": "code",
   "execution_count": 98,
   "metadata": {},
   "outputs": [
    {
     "data": {
      "text/plain": [
       "22754046"
      ]
     },
     "execution_count": 98,
     "metadata": {},
     "output_type": "execute_result"
    }
   ],
   "source": [
    "urban2100data=np.sum(urban2100_1[ukraine])\n",
    "urban2100data"
   ]
  },
  {
   "cell_type": "code",
   "execution_count": 99,
   "metadata": {},
   "outputs": [],
   "source": [
    "path=\"/Users/shym/Downloads/assignment_Gunko/SSP4/Total/GeoTIFF/\"\n",
    "os.chdir(path)\n",
    "#changing working directory"
   ]
  },
  {
   "cell_type": "code",
   "execution_count": 100,
   "metadata": {},
   "outputs": [],
   "source": [
    "total2010=rasterio.open('ssp4_2010.tif')\n",
    "total2020=rasterio.open('ssp4_2020.tif')\n",
    "total2030=rasterio.open('ssp4_2030.tif')\n",
    "total2040=rasterio.open('ssp4_2040.tif')\n",
    "total2050=rasterio.open('ssp4_2050.tif')\n",
    "total2060=rasterio.open('ssp4_2060.tif')\n",
    "total2070=rasterio.open('ssp4_2070.tif')\n",
    "total2080=rasterio.open('ssp4_2080.tif')\n",
    "total2090=rasterio.open('ssp4_2090.tif')\n",
    "total2100=rasterio.open('ssp4_2100.tif')\n",
    "#opening total population data"
   ]
  },
  {
   "cell_type": "code",
   "execution_count": 101,
   "metadata": {},
   "outputs": [
    {
     "data": {
      "text/plain": [
       "array([[2147483647, 2147483647, 2147483647, ..., 2147483647, 2147483647,\n",
       "        2147483647],\n",
       "       [2147483647, 2147483647, 2147483647, ..., 2147483647, 2147483647,\n",
       "        2147483647],\n",
       "       [2147483647, 2147483647, 2147483647, ..., 2147483647, 2147483647,\n",
       "        2147483647],\n",
       "       ...,\n",
       "       [2147483647, 2147483647, 2147483647, ..., 2147483647, 2147483647,\n",
       "        2147483647],\n",
       "       [2147483647, 2147483647, 2147483647, ..., 2147483647, 2147483647,\n",
       "        2147483647],\n",
       "       [2147483647, 2147483647, 2147483647, ..., 2147483647, 2147483647,\n",
       "        2147483647]], dtype=int32)"
      ]
     },
     "execution_count": 101,
     "metadata": {},
     "output_type": "execute_result"
    }
   ],
   "source": [
    "total2010_1=total2010.read(1)\n",
    "total2010_1\n",
    "#reading total population data as arrays"
   ]
  },
  {
   "cell_type": "code",
   "execution_count": 102,
   "metadata": {},
   "outputs": [
    {
     "data": {
      "text/plain": [
       "array([[2147483647, 2147483647, 2147483647, ..., 2147483647, 2147483647,\n",
       "        2147483647],\n",
       "       [2147483647, 2147483647, 2147483647, ..., 2147483647, 2147483647,\n",
       "        2147483647],\n",
       "       [2147483647, 2147483647, 2147483647, ..., 2147483647, 2147483647,\n",
       "        2147483647],\n",
       "       ...,\n",
       "       [2147483647, 2147483647, 2147483647, ..., 2147483647, 2147483647,\n",
       "        2147483647],\n",
       "       [2147483647, 2147483647, 2147483647, ..., 2147483647, 2147483647,\n",
       "        2147483647],\n",
       "       [2147483647, 2147483647, 2147483647, ..., 2147483647, 2147483647,\n",
       "        2147483647]], dtype=int32)"
      ]
     },
     "execution_count": 102,
     "metadata": {},
     "output_type": "execute_result"
    }
   ],
   "source": [
    "total2020_1=total2020.read(1)\n",
    "total2020_1"
   ]
  },
  {
   "cell_type": "code",
   "execution_count": 103,
   "metadata": {},
   "outputs": [
    {
     "data": {
      "text/plain": [
       "array([[2147483647, 2147483647, 2147483647, ..., 2147483647, 2147483647,\n",
       "        2147483647],\n",
       "       [2147483647, 2147483647, 2147483647, ..., 2147483647, 2147483647,\n",
       "        2147483647],\n",
       "       [2147483647, 2147483647, 2147483647, ..., 2147483647, 2147483647,\n",
       "        2147483647],\n",
       "       ...,\n",
       "       [2147483647, 2147483647, 2147483647, ..., 2147483647, 2147483647,\n",
       "        2147483647],\n",
       "       [2147483647, 2147483647, 2147483647, ..., 2147483647, 2147483647,\n",
       "        2147483647],\n",
       "       [2147483647, 2147483647, 2147483647, ..., 2147483647, 2147483647,\n",
       "        2147483647]], dtype=int32)"
      ]
     },
     "execution_count": 103,
     "metadata": {},
     "output_type": "execute_result"
    }
   ],
   "source": [
    "total2030_1=total2030.read(1)\n",
    "total2030_1"
   ]
  },
  {
   "cell_type": "code",
   "execution_count": 104,
   "metadata": {},
   "outputs": [
    {
     "data": {
      "text/plain": [
       "array([[2147483647, 2147483647, 2147483647, ..., 2147483647, 2147483647,\n",
       "        2147483647],\n",
       "       [2147483647, 2147483647, 2147483647, ..., 2147483647, 2147483647,\n",
       "        2147483647],\n",
       "       [2147483647, 2147483647, 2147483647, ..., 2147483647, 2147483647,\n",
       "        2147483647],\n",
       "       ...,\n",
       "       [2147483647, 2147483647, 2147483647, ..., 2147483647, 2147483647,\n",
       "        2147483647],\n",
       "       [2147483647, 2147483647, 2147483647, ..., 2147483647, 2147483647,\n",
       "        2147483647],\n",
       "       [2147483647, 2147483647, 2147483647, ..., 2147483647, 2147483647,\n",
       "        2147483647]], dtype=int32)"
      ]
     },
     "execution_count": 104,
     "metadata": {},
     "output_type": "execute_result"
    }
   ],
   "source": [
    "total2040_1=total2040.read(1)\n",
    "total2040_1"
   ]
  },
  {
   "cell_type": "code",
   "execution_count": 105,
   "metadata": {},
   "outputs": [
    {
     "data": {
      "text/plain": [
       "array([[2147483647, 2147483647, 2147483647, ..., 2147483647, 2147483647,\n",
       "        2147483647],\n",
       "       [2147483647, 2147483647, 2147483647, ..., 2147483647, 2147483647,\n",
       "        2147483647],\n",
       "       [2147483647, 2147483647, 2147483647, ..., 2147483647, 2147483647,\n",
       "        2147483647],\n",
       "       ...,\n",
       "       [2147483647, 2147483647, 2147483647, ..., 2147483647, 2147483647,\n",
       "        2147483647],\n",
       "       [2147483647, 2147483647, 2147483647, ..., 2147483647, 2147483647,\n",
       "        2147483647],\n",
       "       [2147483647, 2147483647, 2147483647, ..., 2147483647, 2147483647,\n",
       "        2147483647]], dtype=int32)"
      ]
     },
     "execution_count": 105,
     "metadata": {},
     "output_type": "execute_result"
    }
   ],
   "source": [
    "total2050_1=total2050.read(1)\n",
    "total2050_1"
   ]
  },
  {
   "cell_type": "code",
   "execution_count": 106,
   "metadata": {},
   "outputs": [
    {
     "data": {
      "text/plain": [
       "array([[2147483647, 2147483647, 2147483647, ..., 2147483647, 2147483647,\n",
       "        2147483647],\n",
       "       [2147483647, 2147483647, 2147483647, ..., 2147483647, 2147483647,\n",
       "        2147483647],\n",
       "       [2147483647, 2147483647, 2147483647, ..., 2147483647, 2147483647,\n",
       "        2147483647],\n",
       "       ...,\n",
       "       [2147483647, 2147483647, 2147483647, ..., 2147483647, 2147483647,\n",
       "        2147483647],\n",
       "       [2147483647, 2147483647, 2147483647, ..., 2147483647, 2147483647,\n",
       "        2147483647],\n",
       "       [2147483647, 2147483647, 2147483647, ..., 2147483647, 2147483647,\n",
       "        2147483647]], dtype=int32)"
      ]
     },
     "execution_count": 106,
     "metadata": {},
     "output_type": "execute_result"
    }
   ],
   "source": [
    "total2060_1=total2060.read(1)\n",
    "total2060_1"
   ]
  },
  {
   "cell_type": "code",
   "execution_count": 107,
   "metadata": {},
   "outputs": [
    {
     "data": {
      "text/plain": [
       "array([[2147483647, 2147483647, 2147483647, ..., 2147483647, 2147483647,\n",
       "        2147483647],\n",
       "       [2147483647, 2147483647, 2147483647, ..., 2147483647, 2147483647,\n",
       "        2147483647],\n",
       "       [2147483647, 2147483647, 2147483647, ..., 2147483647, 2147483647,\n",
       "        2147483647],\n",
       "       ...,\n",
       "       [2147483647, 2147483647, 2147483647, ..., 2147483647, 2147483647,\n",
       "        2147483647],\n",
       "       [2147483647, 2147483647, 2147483647, ..., 2147483647, 2147483647,\n",
       "        2147483647],\n",
       "       [2147483647, 2147483647, 2147483647, ..., 2147483647, 2147483647,\n",
       "        2147483647]], dtype=int32)"
      ]
     },
     "execution_count": 107,
     "metadata": {},
     "output_type": "execute_result"
    }
   ],
   "source": [
    "total2070_1=total2070.read(1)\n",
    "total2070_1"
   ]
  },
  {
   "cell_type": "code",
   "execution_count": 108,
   "metadata": {},
   "outputs": [
    {
     "data": {
      "text/plain": [
       "array([[2147483647, 2147483647, 2147483647, ..., 2147483647, 2147483647,\n",
       "        2147483647],\n",
       "       [2147483647, 2147483647, 2147483647, ..., 2147483647, 2147483647,\n",
       "        2147483647],\n",
       "       [2147483647, 2147483647, 2147483647, ..., 2147483647, 2147483647,\n",
       "        2147483647],\n",
       "       ...,\n",
       "       [2147483647, 2147483647, 2147483647, ..., 2147483647, 2147483647,\n",
       "        2147483647],\n",
       "       [2147483647, 2147483647, 2147483647, ..., 2147483647, 2147483647,\n",
       "        2147483647],\n",
       "       [2147483647, 2147483647, 2147483647, ..., 2147483647, 2147483647,\n",
       "        2147483647]], dtype=int32)"
      ]
     },
     "execution_count": 108,
     "metadata": {},
     "output_type": "execute_result"
    }
   ],
   "source": [
    "total2080_1=total2080.read(1)\n",
    "total2080_1"
   ]
  },
  {
   "cell_type": "code",
   "execution_count": 109,
   "metadata": {},
   "outputs": [
    {
     "data": {
      "text/plain": [
       "array([[2147483647, 2147483647, 2147483647, ..., 2147483647, 2147483647,\n",
       "        2147483647],\n",
       "       [2147483647, 2147483647, 2147483647, ..., 2147483647, 2147483647,\n",
       "        2147483647],\n",
       "       [2147483647, 2147483647, 2147483647, ..., 2147483647, 2147483647,\n",
       "        2147483647],\n",
       "       ...,\n",
       "       [2147483647, 2147483647, 2147483647, ..., 2147483647, 2147483647,\n",
       "        2147483647],\n",
       "       [2147483647, 2147483647, 2147483647, ..., 2147483647, 2147483647,\n",
       "        2147483647],\n",
       "       [2147483647, 2147483647, 2147483647, ..., 2147483647, 2147483647,\n",
       "        2147483647]], dtype=int32)"
      ]
     },
     "execution_count": 109,
     "metadata": {},
     "output_type": "execute_result"
    }
   ],
   "source": [
    "total2090_1=total2090.read(1)\n",
    "total2090_1"
   ]
  },
  {
   "cell_type": "code",
   "execution_count": 110,
   "metadata": {},
   "outputs": [
    {
     "data": {
      "text/plain": [
       "array([[2147483647, 2147483647, 2147483647, ..., 2147483647, 2147483647,\n",
       "        2147483647],\n",
       "       [2147483647, 2147483647, 2147483647, ..., 2147483647, 2147483647,\n",
       "        2147483647],\n",
       "       [2147483647, 2147483647, 2147483647, ..., 2147483647, 2147483647,\n",
       "        2147483647],\n",
       "       ...,\n",
       "       [2147483647, 2147483647, 2147483647, ..., 2147483647, 2147483647,\n",
       "        2147483647],\n",
       "       [2147483647, 2147483647, 2147483647, ..., 2147483647, 2147483647,\n",
       "        2147483647],\n",
       "       [2147483647, 2147483647, 2147483647, ..., 2147483647, 2147483647,\n",
       "        2147483647]], dtype=int32)"
      ]
     },
     "execution_count": 110,
     "metadata": {},
     "output_type": "execute_result"
    }
   ],
   "source": [
    "total2100_1=total2100.read(1)\n",
    "total2100_1"
   ]
  },
  {
   "cell_type": "code",
   "execution_count": 111,
   "metadata": {},
   "outputs": [
    {
     "data": {
      "text/plain": [
       "46890875"
      ]
     },
     "execution_count": 111,
     "metadata": {},
     "output_type": "execute_result"
    }
   ],
   "source": [
    "total2010data=np.sum(total2010_1[ukraine])\n",
    "total2010data\n",
    "# combining total population data with Ukrainian data. Calculation of total population according to years"
   ]
  },
  {
   "cell_type": "code",
   "execution_count": 112,
   "metadata": {},
   "outputs": [
    {
     "data": {
      "text/plain": [
       "43951281"
      ]
     },
     "execution_count": 112,
     "metadata": {},
     "output_type": "execute_result"
    }
   ],
   "source": [
    "total2020data=np.sum(total2020_1[ukraine])\n",
    "total2020data"
   ]
  },
  {
   "cell_type": "code",
   "execution_count": 113,
   "metadata": {},
   "outputs": [
    {
     "data": {
      "text/plain": [
       "41383609"
      ]
     },
     "execution_count": 113,
     "metadata": {},
     "output_type": "execute_result"
    }
   ],
   "source": [
    "total2030data=np.sum(total2030_1[ukraine])\n",
    "total2030data"
   ]
  },
  {
   "cell_type": "code",
   "execution_count": 114,
   "metadata": {},
   "outputs": [
    {
     "data": {
      "text/plain": [
       "39207753"
      ]
     },
     "execution_count": 114,
     "metadata": {},
     "output_type": "execute_result"
    }
   ],
   "source": [
    "total2040data=np.sum(total2040_1[ukraine])\n",
    "total2040data"
   ]
  },
  {
   "cell_type": "code",
   "execution_count": 115,
   "metadata": {},
   "outputs": [
    {
     "data": {
      "text/plain": [
       "37107192"
      ]
     },
     "execution_count": 115,
     "metadata": {},
     "output_type": "execute_result"
    }
   ],
   "source": [
    "total2050data=np.sum(total2050_1[ukraine])\n",
    "total2050data"
   ]
  },
  {
   "cell_type": "code",
   "execution_count": 116,
   "metadata": {},
   "outputs": [
    {
     "data": {
      "text/plain": [
       "35008480"
      ]
     },
     "execution_count": 116,
     "metadata": {},
     "output_type": "execute_result"
    }
   ],
   "source": [
    "total2060data=np.sum(total2060_1[ukraine])\n",
    "total2060data"
   ]
  },
  {
   "cell_type": "code",
   "execution_count": 117,
   "metadata": {},
   "outputs": [
    {
     "data": {
      "text/plain": [
       "32625866"
      ]
     },
     "execution_count": 117,
     "metadata": {},
     "output_type": "execute_result"
    }
   ],
   "source": [
    "total2070data=np.sum(total2070_1[ukraine])\n",
    "total2070data"
   ]
  },
  {
   "cell_type": "code",
   "execution_count": 118,
   "metadata": {},
   "outputs": [
    {
     "data": {
      "text/plain": [
       "29933238"
      ]
     },
     "execution_count": 118,
     "metadata": {},
     "output_type": "execute_result"
    }
   ],
   "source": [
    "total2080data=np.sum(total2080_1[ukraine])\n",
    "total2080data"
   ]
  },
  {
   "cell_type": "code",
   "execution_count": 119,
   "metadata": {},
   "outputs": [
    {
     "data": {
      "text/plain": [
       "27117370"
      ]
     },
     "execution_count": 119,
     "metadata": {},
     "output_type": "execute_result"
    }
   ],
   "source": [
    "total2090data=np.sum(total2090_1[ukraine])\n",
    "total2090data"
   ]
  },
  {
   "cell_type": "code",
   "execution_count": 120,
   "metadata": {},
   "outputs": [
    {
     "data": {
      "text/plain": [
       "24258607"
      ]
     },
     "execution_count": 120,
     "metadata": {},
     "output_type": "execute_result"
    }
   ],
   "source": [
    "total2100data=np.sum(total2100_1[ukraine])\n",
    "total2100data"
   ]
  },
  {
   "cell_type": "code",
   "execution_count": 121,
   "metadata": {},
   "outputs": [],
   "source": [
    "import matplotlib.pyplot as plt\n",
    "#importing lib for plotting"
   ]
  },
  {
   "cell_type": "code",
   "execution_count": 122,
   "metadata": {},
   "outputs": [
    {
     "data": {
      "image/png": "[encoded data removed]",
      "text/plain": [
       "<Figure size 432x288 with 1 Axes>"
      ]
     },
     "metadata": {
      "needs_background": "light"
     },
     "output_type": "display_data"
    }
   ],
   "source": [
    "year = [2010, 2020, 2030, 2040, 2050, 2060, 2070, 2080, 2090, 2100]\n",
    "total_pop_ukraine = [total2010data, total2020data, total2030data, total2040data, total2050data, total2060data, total2070data, total2080data, total2090data, total2100data]\n",
    "urban_pop_ukraine = [urban2010data, urban2020data, urban2030data, urban2040data, urban2050data, urban2060data, urban2070data, urban2080data, urban2090data, urban2100data]\n",
    "plt.plot(year, total_pop_ukraine, color='g', label='Total')\n",
    "plt.plot(year, urban_pop_ukraine, color='orange', label='Urban')\n",
    "plt.xlabel('Years')\n",
    "plt.ylabel('Population')\n",
    "plt.title('Total and Urban population in Ukraine 2010 - 2100')\n",
    "plt.legend()\n",
    "plt.show()\n",
    "#plot data. Also, here I'm sure it can be done in more easy way without writing all years data, but... \n",
    "#At least, I got result in a long way"
   ]
  },
  {
   "cell_type": "code",
   "execution_count": 123,
   "metadata": {},
   "outputs": [],
   "source": [
    "from rasterio.plot import show\n",
    "from rasterio.plot import show_hist\n",
    "import matplotlib.pyplot as plt\n",
    "\n",
    "from rasterio.mask import mask\n",
    "# second part of assignment I did with help of this information from the web-page\n",
    "#https://www.earthdatascience.org/courses/earth-analytics-python/lidar-raster-data/subtract-rasters-in-python/"
   ]
  },
  {
   "cell_type": "code",
   "execution_count": 124,
   "metadata": {},
   "outputs": [],
   "source": [
    "os.chdir(\"/Users/shym/Downloads/assignment_Gunko/SSP4/Total/GeoTIFF\")"
   ]
  },
  {
   "cell_type": "code",
   "execution_count": 125,
   "metadata": {},
   "outputs": [
    {
     "data": {
      "text/plain": [
       "masked_array(\n",
       "  data=[[--, --, --, ..., --, --, --],\n",
       "        [--, --, --, ..., --, --, --],\n",
       "        [--, --, --, ..., --, --, --],\n",
       "        ...,\n",
       "        [--, --, --, ..., --, --, --],\n",
       "        [--, --, --, ..., --, --, --],\n",
       "        [--, --, --, ..., --, --, --]],\n",
       "  mask=[[ True,  True,  True, ...,  True,  True,  True],\n",
       "        [ True,  True,  True, ...,  True,  True,  True],\n",
       "        [ True,  True,  True, ...,  True,  True,  True],\n",
       "        ...,\n",
       "        [ True,  True,  True, ...,  True,  True,  True],\n",
       "        [ True,  True,  True, ...,  True,  True,  True],\n",
       "        [ True,  True,  True, ...,  True,  True,  True]],\n",
       "  fill_value=2147483647,\n",
       "  dtype=int32)"
      ]
     },
     "execution_count": 125,
     "metadata": {},
     "output_type": "execute_result"
    }
   ],
   "source": [
    "total2010_path = \"/Users/shym/Downloads/assignment_Gunko/SSP4/Total/GeoTIFF/ssp4_2010.tif\"\n",
    "\n",
    "with rasterio.open(total2010_path) as tot2010:\n",
    "    total2010 = tot2010.read(1, masked=True)\n",
    "    total2010_meta = tot2010.profile\n",
    "total2010\n",
    "#open data as masked array"
   ]
  },
  {
   "cell_type": "code",
   "execution_count": 126,
   "metadata": {},
   "outputs": [
    {
     "data": {
      "text/plain": [
       "masked_array(\n",
       "  data=[[--, --, --, ..., --, --, --],\n",
       "        [--, --, --, ..., --, --, --],\n",
       "        [--, --, --, ..., --, --, --],\n",
       "        ...,\n",
       "        [--, --, --, ..., --, --, --],\n",
       "        [--, --, --, ..., --, --, --],\n",
       "        [--, --, --, ..., --, --, --]],\n",
       "  mask=[[ True,  True,  True, ...,  True,  True,  True],\n",
       "        [ True,  True,  True, ...,  True,  True,  True],\n",
       "        [ True,  True,  True, ...,  True,  True,  True],\n",
       "        ...,\n",
       "        [ True,  True,  True, ...,  True,  True,  True],\n",
       "        [ True,  True,  True, ...,  True,  True,  True],\n",
       "        [ True,  True,  True, ...,  True,  True,  True]],\n",
       "  fill_value=2147483647,\n",
       "  dtype=int32)"
      ]
     },
     "execution_count": 126,
     "metadata": {},
     "output_type": "execute_result"
    }
   ],
   "source": [
    "total2100_path = \"/Users/shym/Downloads/assignment_Gunko/SSP4/Total/GeoTIFF/ssp4_2100.tif\"\n",
    "\n",
    "with rasterio.open(total2100_path) as tot2100:\n",
    "    total2100 = tot2100.read(1, masked=True)\n",
    "    total2100_meta = tot2100.profile\n",
    "total2100"
   ]
  },
  {
   "cell_type": "code",
   "execution_count": 127,
   "metadata": {},
   "outputs": [
    {
     "data": {
      "image/png": "[encoded data removed]",
      "text/plain": [
       "<Figure size 1008x1008 with 1 Axes>"
      ]
     },
     "metadata": {
      "needs_background": "light"
     },
     "output_type": "display_data"
    }
   ],
   "source": [
    "total = total2100 - total2010\n",
    "total[total > 0] = 0\n",
    "fig, ax = plt.subplots(figsize = (14,14))\n",
    "chm_plot = ax.imshow(total, \n",
    "                     cmap='viridis')\n",
    "ax.set_axis_off()\n",
    "#raster minus raster, but in the same time we are saying to our data that all values bigger than 0 must to be 0."
   ]
  },
  {
   "cell_type": "code",
   "execution_count": 128,
   "metadata": {},
   "outputs": [
    {
     "name": "stdout",
     "output_type": "stream",
     "text": [
      "total minimum value:  -1282716\n",
      "total max value:  0\n"
     ]
    }
   ],
   "source": [
    "print('total minimum value: ', total.min())\n",
    "print('total max value: ', total.max())\n",
    "#check min and max values to be sure we have only data where population is decreases"
   ]
  },
  {
   "cell_type": "code",
   "execution_count": 129,
   "metadata": {},
   "outputs": [
    {
     "name": "stdout",
     "output_type": "stream",
     "text": [
      "The directory exists!\n"
     ]
    }
   ],
   "source": [
    "if os.path.exists('/Users/shym/Downloads/assignment_Gunko/output/'):\n",
    "    print('The directory exists!')\n",
    "else:\n",
    "    os.makedirs('/Users/shym/Downloads/assignment_Gunko/output/')\n",
    "#creation directory for output raster"
   ]
  },
  {
   "cell_type": "code",
   "execution_count": 130,
   "metadata": {},
   "outputs": [],
   "source": [
    "with rasterio.open('/Users/shym/Downloads/assignment_Gunko/output/total_minus.tiff', 'w', **total2100_meta) as ff:\n",
    "    ff.write(total,1)\n",
    "# export total as a new raster "
   ]
  },
  {
   "cell_type": "code",
   "execution_count": 133,
   "metadata": {},
   "outputs": [
    {
     "name": "stdout",
     "output_type": "stream",
     "text": [
      "\n",
      "Note: you may need to restart the kernel to use updated packages.\n"
     ]
    }
   ],
   "source": [
    "conda env export > assignment_1.yml\n",
    "#export environment for sharing"
   ]
  },
  {
   "cell_type": "code",
   "execution_count": null,
   "metadata": {},
   "outputs": [],
   "source": []
  }
 ],
 "metadata": {
  "kernelspec": {
   "display_name": "Python 3",
   "language": "python",
   "name": "python3"
  },
  "language_info": {
   "codemirror_mode": {
    "name": "ipython",
    "version": 3
   },
   "file_extension": ".py",
   "mimetype": "text/x-python",
   "name": "python",
   "nbconvert_exporter": "python",
   "pygments_lexer": "ipython3",
   "version": "3.6.7"
  }
 },
 "nbformat": 4,
 "nbformat_minor": 2
}
